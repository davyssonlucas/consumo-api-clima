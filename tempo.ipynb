{
 "cells": [
  {
   "cell_type": "markdown",
   "id": "7cd300be",
   "metadata": {},
   "source": [
    "> ![logo100px.jpg](data:image/jpeg;base64,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)\n",
    "\n",
    "\n",
    "\n",
    "# Desafio Dados2Dados: Consumindo API de tempo e temperatura com Python e SQL\n",
    "\n",
    "https://colab.research.google.com/gist/ricosuhete/6b97ce298620912687fc985892a52144/api_openweathermap.ipynb\n",
    "\n",
    "\n",
    "# RESOLUÇÃO:"
   ]
  },
  {
   "cell_type": "markdown",
   "id": "f6b7cf75",
   "metadata": {},
   "source": [
    "- Obter a temperatura atual para uma lista de cidades do seu estado e armazenar os resultados em uma tabela SQL."
   ]
  },
  {
   "cell_type": "code",
   "execution_count": 1,
   "id": "a3e37ae0",
   "metadata": {},
   "outputs": [],
   "source": [
    "#%pip install python-dotenv"
   ]
  },
  {
   "cell_type": "code",
   "execution_count": 9,
   "id": "3d5bdaa8",
   "metadata": {},
   "outputs": [],
   "source": [
    "import os\n",
    "from dotenv import load_dotenv\n",
    "from pyspark.sql import SparkSession, Row\n",
    "from pyspark.sql.types import StructType, StructField, FloatType, IntegerType, StringType, DateType\n",
    "from pyspark.sql.functions import col\n",
    "import requests\n",
    "from datetime import datetime\n",
    "\n",
    "load_dotenv()\n",
    "API_KEY = os.getenv(\"API_KEY\")"
   ]
  },
  {
   "cell_type": "code",
   "execution_count": 3,
   "id": "33a172d0",
   "metadata": {},
   "outputs": [
    {
     "name": "stdout",
     "output_type": "stream",
     "text": [
      "Inicando sessão spark\n"
     ]
    }
   ],
   "source": [
    "# Inicia uma sessão Spark\n",
    "print(\"Inicando sessão spark\")\n",
    "spark = SparkSession.builder.appName(\"desafio-tempo\").getOrCreate()"
   ]
  },
  {
   "cell_type": "code",
   "execution_count": 4,
   "id": "fe2c82bc",
   "metadata": {},
   "outputs": [
    {
     "name": "stdout",
     "output_type": "stream",
     "text": [
      "+--------+-----+\n",
      "|    name| temp|\n",
      "+--------+-----+\n",
      "|Curitiba|18.88|\n",
      "| Pinhais|18.81|\n",
      "| Colombo|18.22|\n",
      "|Matinhos|18.84|\n",
      "+--------+-----+\n",
      "\n"
     ]
    }
   ],
   "source": [
    "state_code = \"PR\"\n",
    "country_code = \"BR\"\n",
    "list_city_name = [\"Curitiba\", \"Pinhais\", \"Colombo\", \"Matinhos\"]\n",
    "units = \"metric\"\n",
    "lang = \"pt_br\"\n",
    "\n",
    "def request_json(city):\n",
    "    url_tempo = f\"https://api.openweathermap.org/data/2.5/weather?q={city},{state_code},{country_code}&appid={API_KEY}&units={units}&lang={lang}\"\n",
    "    response = requests.get(url_tempo)\n",
    "    if response.status_code == 200:\n",
    "        data1 = response.json()\n",
    "\n",
    "        # Extrai o dicionário das informações do tempo\n",
    "        weather_data = data1.get(\"main\", {})\n",
    "        weather_data[\"name\"] = data1.get(\"name\", \"\")\n",
    "        return weather_data\n",
    "    else:\n",
    "        print(f\"INFO:{response.text}\")\n",
    "\n",
    "rtemp = spark.sparkContext.parallelize(list_city_name)\n",
    "temp = rtemp.map(request_json)\n",
    "df_city_temp = spark.createDataFrame(temp)\n",
    "df_city_temp = df_city_temp.select(\"name\", \"temp\")\n",
    "df_city_temp.show()"
   ]
  },
  {
   "cell_type": "markdown",
   "id": "e55804d9",
   "metadata": {},
   "source": [
    "- Analisar a temperatura máxima e mínima para cada cidade em um período de 30 dias e exibir os resultados em uma tabela SQL."
   ]
  },
  {
   "cell_type": "code",
   "execution_count": 5,
   "id": "f15e3393",
   "metadata": {},
   "outputs": [
    {
     "name": "stdout",
     "output_type": "stream",
     "text": [
      "INFO:{\"cod\":401, \"message\": \"Invalid API key. Please see http://openweathermap.org/faq#error401 for more info.\"}\n",
      "INFO:{\"cod\":401, \"message\": \"Invalid API key. Please see http://openweathermap.org/faq#error401 for more info.\"}\n",
      "INFO:{\"cod\":401, \"message\": \"Invalid API key. Please see http://openweathermap.org/faq#error401 for more info.\"}\n",
      "INFO:{\"cod\":401, \"message\": \"Invalid API key. Please see http://openweathermap.org/faq#error401 for more info.\"}\n"
     ]
    }
   ],
   "source": [
    "def convert_data(data):\n",
    "    # Crie um objeto datetime para a data\n",
    "    data_formatada = datetime.strptime(data, \"%d/%m/%Y\")\n",
    "\n",
    "    # Converta a data para o formato Unix (timestamp)\n",
    "    timestamp_unix = int(data_formatada.timestamp())\n",
    "    return timestamp_unix\n",
    "\n",
    "# Defina a data no formato \"dd/mm/yyyy\"\n",
    "start = convert_data(\"10/09/2023\")\n",
    "end = convert_data(\"26/10/2023\")\n",
    "\n",
    "def request_json2(url):\n",
    "    response = requests.get(url)    \n",
    "    if response.status_code == 200:\n",
    "        data1 = response.json()\n",
    "        \n",
    "        # Extrai o dicionário das informações do tempo\n",
    "        weather_data = data1.get(\"main\", {})\n",
    "        weather_data[\"name\"] = data1.get(\"name\", \"\")\n",
    "\n",
    "        # Cria um esquema flexível para acomodar inteiros e flutuantes\n",
    "        schema = StructType([            \n",
    "            StructField(\"city_id\", StringType(), False),            \n",
    "            StructField(\"dt\", DateType(), False),\n",
    "            StructField(\"min\", FloatType(), False),\n",
    "            StructField(\"max\", FloatType(), False),           \n",
    "            StructField(\"day\", FloatType(), False)\n",
    "        ])\n",
    "\n",
    "        # Cria o DataFrame a partir do dicionário de informações do tempo\n",
    "        df = spark.createDataFrame([weather_data], schema)        \n",
    "        df.show()\n",
    "\n",
    "    else:\n",
    "        print(f\"INFO:{response.text}\")\n",
    "for city in list_city_name:\n",
    "    url = f\"https://history.openweathermap.org/data/2.5/history/city?q={city},{country_code}&type=hour&start={start}&end={end}&appid={API_KEY}&units={units}&lang={lang}\"\n",
    "    #print(url)\n",
    "    request_json2(url)"
   ]
  },
  {
   "cell_type": "markdown",
   "id": "301b2c41",
   "metadata": {},
   "source": [
    "- Determinar a cidade com a maior diferença entre a temperatura máxima e mínima e exibir o resultado em uma tabela SQL."
   ]
  },
  {
   "cell_type": "code",
   "execution_count": 12,
   "id": "323fd814",
   "metadata": {},
   "outputs": [
    {
     "name": "stdout",
     "output_type": "stream",
     "text": [
      "+--------+--------+--------+\n",
      "|    name|temp_min|temp_max|\n",
      "+--------+--------+--------+\n",
      "|Curitiba|   17.95|   19.47|\n",
      "| Pinhais|   18.12|   19.64|\n",
      "| Colombo|   17.38|    18.9|\n",
      "|Matinhos|   18.84|   18.84|\n",
      "+--------+--------+--------+\n",
      "\n",
      "+-------+--------+--------+------------------+\n",
      "|   name|temp_min|temp_max|    diferença_temp|\n",
      "+-------+--------+--------+------------------+\n",
      "|Colombo|   17.38|    18.9|1.5199999999999996|\n",
      "+-------+--------+--------+------------------+\n",
      "\n"
     ]
    }
   ],
   "source": [
    "rtemp = spark.sparkContext.parallelize(list_city_name)\n",
    "temp = rtemp.map(request_json)\n",
    "df_temp = spark.createDataFrame(temp)\n",
    "df_temp = df_temp.select(\"name\", \"temp_min\", \"temp_max\")\n",
    "df_temp.show()\n",
    "# Calcular a diferença entre a temperatura máxima e mínima\n",
    "df_temp = df_temp.withColumn(\"diferença_temp\", col(\"temp_max\") - col(\"temp_min\"))\n",
    "\n",
    "# Encontrar a cidade com a maior diferença\n",
    "city_with_max_temp_diff = df_temp.orderBy(col(\"diferença_temp\").desc()).first()\n",
    "\n",
    "# Criar um DataFrame para a cidade com a maior diferença\n",
    "max_temp_diff_df = spark.createDataFrame([Row(**city_with_max_temp_diff.asDict())])\n",
    "\n",
    "# Exibir a cidade com a maior diferença em uma tabela SQL\n",
    "max_temp_diff_df.createOrReplaceTempView(\"max_temp_diff_city\")\n",
    "spark.sql(\"SELECT * FROM max_temp_diff_city\").show()"
   ]
  },
  {
   "cell_type": "markdown",
   "id": "e1da9b8e",
   "metadata": {},
   "source": [
    "- Identificar a cidade mais quente e a cidade mais fria em um período de 30 dias e exibir os resultados em uma tabela SQL."
   ]
  },
  {
   "cell_type": "markdown",
   "id": "0b649b9e",
   "metadata": {},
   "source": [
    "- Calcular a média da temperatura para cada dia em um período de 30 dias e exibir os resultados em uma tabela SQL."
   ]
  },
  {
   "cell_type": "markdown",
   "id": "fd47bb79",
   "metadata": {},
   "source": [
    "- Identificar as cidades com as maiores e menores variações de temperatura em um período de 30 dias e exibir os resultados em uma tabela SQL."
   ]
  },
  {
   "cell_type": "markdown",
   "id": "0b94cd42",
   "metadata": {},
   "source": [
    "- Obter a previsão do tempo para uma lista de cidades do seu estado nos próximos 7 dias e armazenar os resultados em uma tabela SQL."
   ]
  },
  {
   "cell_type": "markdown",
   "id": "0d8a730a",
   "metadata": {},
   "source": [
    "- Identificar a cidade com a maior quantidade de dias chuvosos em um período de 30 dias e exibir o resultado em uma tabela SQL."
   ]
  },
  {
   "cell_type": "markdown",
   "id": "89dc2ce1",
   "metadata": {},
   "source": [
    "- Calcular a média de umidade para cada dia em um período de 30 dias e exibir os resultados em uma tabela SQL."
   ]
  },
  {
   "cell_type": "markdown",
   "id": "2e6b991c",
   "metadata": {},
   "source": [
    "- Identificar as cidades com a maior e menor umidade média em um período de 30 dias e exibir os resultados em uma tabela SQL."
   ]
  },
  {
   "cell_type": "markdown",
   "id": "9cfdfec5",
   "metadata": {},
   "source": [
    "Observação: Para realizar este desafio, você deve ter conhecimento básico/intermediário em Python e SQL, além de ser capaz de trabalhar com APIs. Você pode utilizar quaisquer bibliotecas Python para realizar as solicitações HTTP e armazenar os dados em uma base de dados SQL, como Requests, Pandas, SQLAlchemy, entre outras. Além disso, você pode escolher qualquer banco de dados SQL, como MySQL, PostgreSQL, SQLite, entre outros.\n",
    "\n",
    "Observação: Para o você se desafiar o ideal que você aprenda docker, pelo menos o básico para conseguir subir um container do mysql ou outro banco a seu gosto, e persista os dados nele. Caso você ache muito difícil, sugiro você salvar em formato CSV."
   ]
  },
  {
   "cell_type": "code",
   "execution_count": null,
   "id": "bdcb9954",
   "metadata": {},
   "outputs": [],
   "source": [
    "# # Encerra a sessão Spark\n",
    "# print(\"Sessão spark encerrada\")\n",
    "# spark.stop()"
   ]
  }
 ],
 "metadata": {
  "kernelspec": {
   "display_name": "Python 3 (ipykernel)",
   "language": "python",
   "name": "python3"
  },
  "language_info": {
   "codemirror_mode": {
    "name": "ipython",
    "version": 3
   },
   "file_extension": ".py",
   "mimetype": "text/x-python",
   "name": "python",
   "nbconvert_exporter": "python",
   "pygments_lexer": "ipython3",
   "version": "3.11.6"
  }
 },
 "nbformat": 4,
 "nbformat_minor": 5
}
